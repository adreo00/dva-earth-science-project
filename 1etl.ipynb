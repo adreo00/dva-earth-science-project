{
 "cells": [
  {
   "cell_type": "code",
   "execution_count": 2,
   "metadata": {},
   "outputs": [],
   "source": [
    "import pandas as pd\n",
    "from PyEMD import EMD, Visualisation\n",
    "import numpy as np\n",
    "import matplotlib.pyplot as plt\n",
    "from scipy import fftpack\n",
    "import pywt\n",
    "from sklearn.preprocessing import MinMaxScaler\n",
    "from sklearn.metrics import confusion_matrix\n",
    "from sklearn.metrics import accuracy_score\n",
    "from sklearn import linear_model\n",
    "from sklearn import metrics\n",
    "\n",
    "from pathlib import Path\n",
    "import statistics"
   ]
  },
  {
   "cell_type": "code",
   "execution_count": 3,
   "metadata": {},
   "outputs": [],
   "source": [
    "# 6 iterations\n",
    "MicSigV1=pd.read_json ('./MicSigV1.json') #(1187,11)\n",
    "MicSigV1['Data_CIIT_6'] = np.zeros((MicSigV1.shape[0]))\n",
    "MicSigV1['Data_CIIT_6'] = MicSigV1['Data_CIIT_6'].astype('object')\n",
    "emd = EMD()\n",
    "#vis = Visualisation()\n",
    "#plt.plot(t,MicSigV1['Data'][1])\n",
    "#vis.plot_imfs(imfs=imfs, residue=res, t=t, include_residue=True)\n",
    "for ind in range(MicSigV1.shape[0]): \n",
    "    \n",
    "    #1.Decompose noisy input signal into its N subsequent IMFs using EMD.\n",
    "    data_i=MicSigV1['Data'][ind] \n",
    "    emd.emd(np.array(data_i))\n",
    "    imfs, res = emd.get_imfs_and_residue()\n",
    "    t = np.arange(0,len(data_i), 1)    \n",
    "    #2.Denoise, the first IMF, using any thresholding technique.\n",
    "    N_1=imfs[0].shape[0]\n",
    "    cov_1=(statistics.median(abs(imfs[0])))/0.675\n",
    "    T_1 = cov_1*((2*np.log(N_1))**0.5)\n",
    "    signs_1 = [np.sign(imfs[0][j]) for j in range(imfs[0].shape[0])]\n",
    "    sign_change_1 = [0]\n",
    "    imfs_1 = np.zeros(imfs[0].shape[0])\n",
    "    for sign_1 in range(len(signs_1)-1):\n",
    "        if signs_1[sign_1] != signs_1[sign_1+1]:\n",
    "            sign_change_1.append(sign_1+1)  \n",
    "    for j in range(len(sign_change_1)-1):\n",
    "        start_point_1=sign_change_1[j]\n",
    "        end_point_1=sign_change_1[j+1]\n",
    "        imf_range_1=imfs[0][start_point_1:end_point_1]\n",
    "        extrema_1 = max(abs(imf_range_1))\n",
    "        if extrema_1 > T_1:\n",
    "            pos_range_1= np.arange(start_point_1,end_point_1)\n",
    "            for k in range(len(pos_range_1)):\n",
    "                pos = pos_range_1[k]\n",
    "                val = imf_range_1[k]*((extrema_1-T_1)/extrema_1)\n",
    "                imfs_1[pos] = val\n",
    "    #3.Compute the actual noise signal that existed\n",
    "    noise_signal = imfs[0]- imfs_1\n",
    "    #4.Perform a partial reconstruction using the last L − 1 IMFs plus the information signal contained in 1st IMF\n",
    "    imfs[0] = imfs_1\n",
    "    MicSigV1_CIIT = np.zeros(imfs[0].shape[0])\n",
    "    for col_i in range(MicSigV1_CIIT.shape[0]):\n",
    "        for row_i in range(imfs.shape[0]):\n",
    "            MicSigV1_CIIT[col_i] += imfs[row_i][col_i]\n",
    "    seed=0\n",
    "    #5.Randomly alter the sample positions of the noise - only part of the first IMF\n",
    "    noise_signal = noise_signal[np.random.permutation(noise_signal.shape[0])]\n",
    "    MicSigV1_CIIT= MicSigV1_CIIT+noise_signal\n",
    "    #6.Repeat\n",
    "    M_CIIT_max = 5\n",
    "    M_CIIT = 1\n",
    "    M_CIIT_obs =np.zeros((M_CIIT_max+1,imfs.shape[1]))\n",
    "    M_CIIT_obs[0] = MicSigV1_CIIT\n",
    "    \n",
    "    while M_CIIT <= M_CIIT_max:\n",
    "        data_i= MicSigV1_CIIT\n",
    "        emd.emd(np.array(data_i))\n",
    "        imfs, res = emd.get_imfs_and_residue()\n",
    "        row=imfs.shape[0]\n",
    "        col=imfs.shape[1]\n",
    "        imfs_filter = np.zeros((row,col))\n",
    "        for i in range(imfs.shape[0]):\n",
    "            N_i=imfs[i].shape[0]\n",
    "            cov_i=(statistics.median(abs(imfs[i])))/0.675\n",
    "            T_i = cov_i*((2*np.log(N_i))**0.5)\n",
    "            signs = [np.sign(imfs[i][j]) for j in range(imfs[i].shape[0])]\n",
    "            sign_change = [0]   \n",
    "            for sign in range(len(signs)-1):\n",
    "                if signs[sign] != signs[sign+1]:\n",
    "                    sign_change.append(sign+1)\n",
    "            for j in range(len(sign_change)-1):\n",
    "                start_point=sign_change[j]\n",
    "                end_point=sign_change[j+1]\n",
    "                imf_range=imfs[i][start_point:end_point]\n",
    "                extrema = max(abs(imf_range))\n",
    "                if extrema > T_i:\n",
    "                    pos_range= np.arange(start_point,end_point)\n",
    "                    for k in range(len(pos_range)):\n",
    "                        pos = pos_range[k]\n",
    "                        val=imf_range[k]*((extrema-T_i)/extrema)\n",
    "                        imfs_filter[i][pos] = val\n",
    "        \n",
    "        noise_signal = imfs[0]- imfs_filter[0]\n",
    "        MicSigV1_CIIT = np.zeros(imfs[0].shape[0])\n",
    "        for col_i in range(MicSigV1_CIIT.shape[0]):\n",
    "            for row_i in range(imfs_filter.shape[0]):\n",
    "                MicSigV1_CIIT[col_i] += imfs_filter[row_i][col_i]   \n",
    "        seed=0\n",
    "        noise_signal = noise_signal[np.random.permutation(noise_signal.shape[0])]\n",
    "        MicSigV1_CIIT= MicSigV1_CIIT+noise_signal\n",
    "        M_CIIT_obs[M_CIIT] = MicSigV1_CIIT\n",
    "        M_CIIT =M_CIIT+1\n",
    "        \n",
    "    MicSigV1_CIIT_avg=np.average(M_CIIT_obs,axis=0)\n",
    "    MicSigV1.at[ind, 'Data_CIIT_6'] = list(MicSigV1_CIIT_avg)        "
   ]
  },
  {
   "cell_type": "code",
   "execution_count": 4,
   "metadata": {},
   "outputs": [],
   "source": [
    "# 4 iterations\n",
    "MicSigV1['Data_CIIT_4'] = np.zeros((MicSigV1.shape[0]))\n",
    "MicSigV1['Data_CIIT_4'] = MicSigV1['Data_CIIT_4'].astype('object')\n",
    "\n",
    "for ind in range(MicSigV1.shape[0]): #\n",
    "    #1.Decompose noisy input signal into its N subsequent IMFs using EMD.\n",
    "    data_i=MicSigV1['Data'][ind] \n",
    "    emd.emd(np.array(data_i))\n",
    "    imfs, res = emd.get_imfs_and_residue()\n",
    "    t = np.arange(0,len(data_i), 1)    \n",
    "    #2.Denoise, the first IMF, using any thresholding technique.\n",
    "    N_1=imfs[0].shape[0]\n",
    "    cov_1=(statistics.median(abs(imfs[0])))/0.675\n",
    "    T_1 = cov_1*((2*np.log(N_1))**0.5)\n",
    "    signs_1 = [np.sign(imfs[0][j]) for j in range(imfs[0].shape[0])]\n",
    "    sign_change_1 = [0]\n",
    "    imfs_1 = np.zeros(imfs[0].shape[0])\n",
    "    for sign_1 in range(len(signs_1)-1):\n",
    "        if signs_1[sign_1] != signs_1[sign_1+1]:\n",
    "            sign_change_1.append(sign_1+1)  \n",
    "    for j in range(len(sign_change_1)-1):\n",
    "        start_point_1=sign_change_1[j]\n",
    "        end_point_1=sign_change_1[j+1]\n",
    "        imf_range_1=imfs[0][start_point_1:end_point_1]\n",
    "        extrema_1 = max(abs(imf_range_1))\n",
    "        if extrema_1 > T_1:\n",
    "            pos_range_1= np.arange(start_point_1,end_point_1)\n",
    "            for k in range(len(pos_range_1)):\n",
    "                pos = pos_range_1[k]\n",
    "                val = imf_range_1[k]*((extrema_1-T_1)/extrema_1)\n",
    "                imfs_1[pos] = val\n",
    "    #3.Compute the actual noise signal that existed\n",
    "    noise_signal = imfs[0]- imfs_1\n",
    "    #4.Perform a partial reconstruction using the last L − 1 IMFs plus the information signal contained in 1st IMF\n",
    "    imfs[0] = imfs_1\n",
    "    MicSigV1_CIIT = np.zeros(imfs[0].shape[0])\n",
    "    for col_i in range(MicSigV1_CIIT.shape[0]):\n",
    "        for row_i in range(imfs.shape[0]):\n",
    "            MicSigV1_CIIT[col_i] += imfs[row_i][col_i]\n",
    "    seed=0\n",
    "    #5.Randomly alter the sample positions of the noise-only part of the first IMF\n",
    "    noise_signal = noise_signal[np.random.permutation(noise_signal.shape[0])]\n",
    "    MicSigV1_CIIT= MicSigV1_CIIT+noise_signal\n",
    "    #6.Repeat\n",
    "    M_CIIT_max = 3\n",
    "    M_CIIT = 1\n",
    "    M_CIIT_obs =np.zeros((M_CIIT_max+1,imfs.shape[1]))\n",
    "    M_CIIT_obs[0] = MicSigV1_CIIT\n",
    "    \n",
    "    while M_CIIT <= M_CIIT_max:\n",
    "        data_i= MicSigV1_CIIT\n",
    "        emd.emd(np.array(data_i))\n",
    "        imfs, res = emd.get_imfs_and_residue()\n",
    "        row=imfs.shape[0]\n",
    "        col=imfs.shape[1]\n",
    "        imfs_filter = np.zeros((row,col))\n",
    "        for i in range(imfs.shape[0]):\n",
    "            N_i=imfs[i].shape[0]\n",
    "            cov_i=(statistics.median(abs(imfs[i])))/0.675\n",
    "            T_i = cov_i*((2*np.log(N_i))**0.5)\n",
    "            signs = [np.sign(imfs[i][j]) for j in range(imfs[i].shape[0])]\n",
    "            sign_change = [0]   \n",
    "            for sign in range(len(signs)-1):\n",
    "                if signs[sign] != signs[sign+1]:\n",
    "                    sign_change.append(sign+1)\n",
    "            for j in range(len(sign_change)-1):\n",
    "                start_point=sign_change[j]\n",
    "                end_point=sign_change[j+1]\n",
    "                imf_range=imfs[i][start_point:end_point]\n",
    "                extrema = max(abs(imf_range))\n",
    "                if extrema > T_i:\n",
    "                    pos_range= np.arange(start_point,end_point)\n",
    "                    for k in range(len(pos_range)):\n",
    "                        pos = pos_range[k]\n",
    "                        val=imf_range[k]*((extrema-T_i)/extrema)\n",
    "                        imfs_filter[i][pos] = val\n",
    "        \n",
    "        noise_signal = imfs[0]- imfs_filter[0]\n",
    "        MicSigV1_CIIT = np.zeros(imfs[0].shape[0])\n",
    "        for col_i in range(MicSigV1_CIIT.shape[0]):\n",
    "            for row_i in range(imfs_filter.shape[0]):\n",
    "                MicSigV1_CIIT[col_i] += imfs_filter[row_i][col_i]   \n",
    "        seed=0\n",
    "        noise_signal = noise_signal[np.random.permutation(noise_signal.shape[0])]\n",
    "        MicSigV1_CIIT= MicSigV1_CIIT+noise_signal\n",
    "        M_CIIT_obs[M_CIIT] = MicSigV1_CIIT\n",
    "        M_CIIT =M_CIIT+1\n",
    "        \n",
    "    MicSigV1_CIIT_avg=np.average(M_CIIT_obs,axis=0)\n",
    "    MicSigV1.at[ind, 'Data_CIIT_4'] = list(MicSigV1_CIIT_avg)        "
   ]
  },
  {
   "cell_type": "code",
   "execution_count": 5,
   "metadata": {},
   "outputs": [],
   "source": [
    "# 2 iterations\n",
    "MicSigV1['Data_CIIT_2'] = np.zeros((MicSigV1.shape[0]))\n",
    "MicSigV1['Data_CIIT_2'] = MicSigV1['Data_CIIT_2'].astype('object')\n",
    "\n",
    "for ind in range(MicSigV1.shape[0]): #\n",
    "    #1.Decompose noisy input signal into its N subsequent IMFs using EMD.\n",
    "    data_i=MicSigV1['Data'][ind] \n",
    "    emd.emd(np.array(data_i))\n",
    "    imfs, res = emd.get_imfs_and_residue()\n",
    "    t = np.arange(0,len(data_i), 1)    \n",
    "    #2.Denoise, the first IMF, using any thresholding technique.\n",
    "    N_1=imfs[0].shape[0]\n",
    "    cov_1=(statistics.median(abs(imfs[0])))/0.675\n",
    "    T_1 = cov_1*((2*np.log(N_1))**0.5)\n",
    "    signs_1 = [np.sign(imfs[0][j]) for j in range(imfs[0].shape[0])]\n",
    "    sign_change_1 = [0]\n",
    "    imfs_1 = np.zeros(imfs[0].shape[0])\n",
    "    for sign_1 in range(len(signs_1)-1):\n",
    "        if signs_1[sign_1] != signs_1[sign_1+1]:\n",
    "            sign_change_1.append(sign_1+1)  \n",
    "    for j in range(len(sign_change_1)-1):\n",
    "        start_point_1=sign_change_1[j]\n",
    "        end_point_1=sign_change_1[j+1]\n",
    "        imf_range_1=imfs[0][start_point_1:end_point_1]\n",
    "        extrema_1 = max(abs(imf_range_1))\n",
    "        if extrema_1 > T_1:\n",
    "            pos_range_1= np.arange(start_point_1,end_point_1)\n",
    "            for k in range(len(pos_range_1)):\n",
    "                pos = pos_range_1[k]\n",
    "                val = imf_range_1[k]*((extrema_1-T_1)/extrema_1)\n",
    "                imfs_1[pos] = val\n",
    "    #3.Compute the actual noise signal that existed\n",
    "    noise_signal = imfs[0]- imfs_1\n",
    "    #4.Perform a partial reconstruction using the last L − 1 IMFs plus the information signal contained in 1st IMF\n",
    "    imfs[0] = imfs_1\n",
    "    MicSigV1_CIIT = np.zeros(imfs[0].shape[0])\n",
    "    for col_i in range(MicSigV1_CIIT.shape[0]):\n",
    "        for row_i in range(imfs.shape[0]):\n",
    "            MicSigV1_CIIT[col_i] += imfs[row_i][col_i]\n",
    "    seed=0\n",
    "    #5.Randomly alter the sample positions o fthe noise-only part of the first IMF\n",
    "    noise_signal = noise_signal[np.random.permutation(noise_signal.shape[0])]\n",
    "    MicSigV1_CIIT= MicSigV1_CIIT+noise_signal\n",
    "    #6.Repeat\n",
    "    M_CIIT_max = 1\n",
    "    M_CIIT = 1\n",
    "    M_CIIT_obs =np.zeros((M_CIIT_max+1,imfs.shape[1]))\n",
    "    M_CIIT_obs[0] = MicSigV1_CIIT\n",
    "    \n",
    "    while M_CIIT <= M_CIIT_max:\n",
    "        data_i= MicSigV1_CIIT\n",
    "        emd.emd(np.array(data_i))\n",
    "        imfs, res = emd.get_imfs_and_residue()\n",
    "        row=imfs.shape[0]\n",
    "        col=imfs.shape[1]\n",
    "        imfs_filter = np.zeros((row,col))\n",
    "        for i in range(imfs.shape[0]):\n",
    "            N_i=imfs[i].shape[0]\n",
    "            cov_i=(statistics.median(abs(imfs[i])))/0.675\n",
    "            T_i = cov_i*((2*np.log(N_i))**0.5)\n",
    "            signs = [np.sign(imfs[i][j]) for j in range(imfs[i].shape[0])]\n",
    "            sign_change = [0]   \n",
    "            for sign in range(len(signs)-1):\n",
    "                if signs[sign] != signs[sign+1]:\n",
    "                    sign_change.append(sign+1)\n",
    "            for j in range(len(sign_change)-1):\n",
    "                start_point=sign_change[j]\n",
    "                end_point=sign_change[j+1]\n",
    "                imf_range=imfs[i][start_point:end_point]\n",
    "                extrema = max(abs(imf_range))\n",
    "                if extrema > T_i:\n",
    "                    pos_range= np.arange(start_point,end_point)\n",
    "                    for k in range(len(pos_range)):\n",
    "                        pos = pos_range[k]\n",
    "                        val=imf_range[k]*((extrema-T_i)/extrema)\n",
    "                        imfs_filter[i][pos] = val\n",
    "        \n",
    "        noise_signal = imfs[0]- imfs_filter[0]\n",
    "        MicSigV1_CIIT = np.zeros(imfs[0].shape[0])\n",
    "        for col_i in range(MicSigV1_CIIT.shape[0]):\n",
    "            for row_i in range(imfs_filter.shape[0]):\n",
    "                MicSigV1_CIIT[col_i] += imfs_filter[row_i][col_i]   \n",
    "        seed=0\n",
    "        noise_signal = noise_signal[np.random.permutation(noise_signal.shape[0])]\n",
    "        MicSigV1_CIIT= MicSigV1_CIIT+noise_signal\n",
    "        M_CIIT_obs[M_CIIT] = MicSigV1_CIIT\n",
    "        M_CIIT =M_CIIT+1\n",
    "        \n",
    "    MicSigV1_CIIT_avg=np.average(M_CIIT_obs,axis=0)\n",
    "    MicSigV1.at[ind, 'Data_CIIT_2'] = list(MicSigV1_CIIT_avg)  "
   ]
  },
  {
   "cell_type": "code",
   "execution_count": 6,
   "metadata": {},
   "outputs": [
    {
     "data": {
      "text/plain": [
       "[<matplotlib.lines.Line2D at 0x7fe8019c3f40>]"
      ]
     },
     "execution_count": 6,
     "metadata": {},
     "output_type": "execute_result"
    },
    {
     "data": {
      "image/png": "[encoded data removed]",
      "text/plain": [
       "<Figure size 432x288 with 1 Axes>"
      ]
     },
     "metadata": {
      "needs_background": "light"
     },
     "output_type": "display_data"
    }
   ],
   "source": [
    "plt.plot(np.arange(0,len(MicSigV1['Data'][1185]),1),MicSigV1['Data'][1185])\n",
    "plt.plot(np.arange(0,len(MicSigV1['Data'][1185]),1),MicSigV1['Data_CIIT_2'][1185])"
   ]
  },
  {
   "cell_type": "code",
   "execution_count": 7,
   "metadata": {},
   "outputs": [
    {
     "data": {
      "text/plain": [
       "[<matplotlib.lines.Line2D at 0x7fe80190d970>]"
      ]
     },
     "execution_count": 7,
     "metadata": {},
     "output_type": "execute_result"
    },
    {
     "data": {
      "image/png": "[encoded data removed]",
      "text/plain": [
       "<Figure size 432x288 with 1 Axes>"
      ]
     },
     "metadata": {
      "needs_background": "light"
     },
     "output_type": "display_data"
    }
   ],
   "source": [
    "plt.plot(np.arange(0,len(MicSigV1['Data'][1185]),1),MicSigV1['Data'][1185])\n",
    "plt.plot(np.arange(0,len(MicSigV1['Data'][1185]),1),MicSigV1['Data_CIIT_4'][1185])"
   ]
  },
  {
   "cell_type": "code",
   "execution_count": 8,
   "metadata": {},
   "outputs": [
    {
     "data": {
      "text/plain": [
       "[<matplotlib.lines.Line2D at 0x7fe8018673d0>]"
      ]
     },
     "execution_count": 8,
     "metadata": {},
     "output_type": "execute_result"
    },
    {
     "data": {
      "image/png": "[encoded data removed]",
      "text/plain": [
       "<Figure size 432x288 with 1 Axes>"
      ]
     },
     "metadata": {
      "needs_background": "light"
     },
     "output_type": "display_data"
    }
   ],
   "source": [
    "plt.plot(np.arange(0,len(MicSigV1['Data'][1185]),1),MicSigV1['Data'][1185])\n",
    "plt.plot(np.arange(0,len(MicSigV1['Data'][1185]),1),MicSigV1['Data_CIIT_6'][1185])"
   ]
  },
  {
   "cell_type": "code",
   "execution_count": 9,
   "metadata": {},
   "outputs": [],
   "source": [
    "#normalize the data in the range (-1,1)\n",
    "\n",
    "def signaltonoise_dB(a, axis=0, ddof=0):\n",
    "    a = np.asanyarray(a)\n",
    "    m = a.mean(axis)\n",
    "    sd = a.std(axis=axis, ddof=ddof)\n",
    "    return 20*np.log10(abs(np.where(sd == 0, 0, m/sd)))\n",
    "\n",
    "scaler = MinMaxScaler(feature_range=(-1, 1))\n",
    "\n",
    "MicSigV1['NORM_CIIT_6'] = np.zeros((MicSigV1.shape[0]))\n",
    "MicSigV1['NORM_CIIT_4'] = np.zeros((MicSigV1.shape[0]))\n",
    "MicSigV1['NORM_CIIT_2'] = np.zeros((MicSigV1.shape[0]))\n",
    "MicSigV1['NORM_CIIT'] = np.zeros((MicSigV1.shape[0]))\n",
    "MicSigV1['NORM_CIIT_6'] = MicSigV1['NORM_CIIT_6'].astype('object')\n",
    "MicSigV1['NORM_CIIT_4'] = MicSigV1['NORM_CIIT_4'].astype('object')\n",
    "MicSigV1['NORM_CIIT_2'] = MicSigV1['NORM_CIIT_2'].astype('object')\n",
    "MicSigV1['NORM_CIIT'] = MicSigV1['NORM_CIIT'].astype('object')\n",
    "\n",
    "stn_array_original = []\n",
    "for ind in range(MicSigV1['Data'].shape[0]):\n",
    "    scaled = scaler.fit_transform([[x] for x in MicSigV1['Data'][ind]])\n",
    "    signal = MicSigV1['Data'][ind]\n",
    "    MicSigV1.at[ind, 'NORM_CIIT'] = list(scaled)  \n",
    "    stn_array_original.append(signaltonoise_dB(signal))\n",
    "\n",
    "stn_array_2iter = []\n",
    "for ind in range(MicSigV1['Data_CIIT_2'].shape[0]):\n",
    "    scaled = scaler.fit_transform([[x] for x in MicSigV1['Data_CIIT_2'][ind]])\n",
    "    signal = MicSigV1['Data_CIIT_2'][ind]\n",
    "    MicSigV1.at[ind, 'NORM_CIIT_2'] = list(scaled)  \n",
    "    stn_array_original.append(signaltonoise_dB(signal))\n",
    "\n",
    "stn_array_4iter = []\n",
    "for ind in range(MicSigV1['Data_CIIT_4'].shape[0]):\n",
    "    scaled = scaler.fit_transform([[x] for x in MicSigV1['Data_CIIT_4'][ind]])\n",
    "    signal = MicSigV1['Data_CIIT_4'][ind]\n",
    "    MicSigV1.at[ind, 'NORM_CIIT_4'] = list(scaled)  \n",
    "    stn_array_original.append(signaltonoise_dB(signal))\n",
    "\n",
    "stn_array_6iter = []\n",
    "for ind in range(MicSigV1['Data_CIIT_6'].shape[0]):\n",
    "    scaled = scaler.fit_transform([[x] for x in MicSigV1['Data_CIIT_6'][ind]])\n",
    "    signal = MicSigV1['Data_CIIT_6'][ind]\n",
    "    MicSigV1.at[ind, 'NORM_CIIT_6'] = list(scaled)  \n",
    "    stn_array_original.append(signaltonoise_dB(signal))\n"
   ]
  },
  {
   "cell_type": "code",
   "execution_count": 10,
   "metadata": {},
   "outputs": [
    {
     "data": {
      "text/plain": [
       "[<matplotlib.lines.Line2D at 0x7fe78dec1eb0>]"
      ]
     },
     "execution_count": 10,
     "metadata": {},
     "output_type": "execute_result"
    },
    {
     "data": {
      "image/png": "[encoded data removed]",
      "text/plain": [
       "<Figure size 432x288 with 1 Axes>"
      ]
     },
     "metadata": {
      "needs_background": "light"
     },
     "output_type": "display_data"
    }
   ],
   "source": [
    "plt.plot(np.arange(0,len(MicSigV1['Data'][1185]),1),MicSigV1['NORM_CIIT_6'][1185])"
   ]
  },
  {
   "cell_type": "code",
   "execution_count": 11,
   "metadata": {},
   "outputs": [],
   "source": [
    "#First Dimension: the Maximum Threshold Frequency (20-30 Hz) #f26 \n",
    "#code from https://www.oreilly.com/library/view/elegant-scipy/9781491922927/ch04.html\n",
    "\n",
    "MicSigV1['Freq_Raw'] = np.zeros((MicSigV1.shape[0]))\n",
    "MicSigV1['Freq_2'] = np.zeros((MicSigV1.shape[0]))\n",
    "MicSigV1['Freq_4'] = np.zeros((MicSigV1.shape[0]))\n",
    "MicSigV1['Freq_6'] = np.zeros((MicSigV1.shape[0]))\n",
    "\n",
    "for ind in range((MicSigV1.shape[0])):\n",
    "    duration = MicSigV1['Duration'][ind]\n",
    "    f_s=len(MicSigV1['Data'][ind])/duration\n",
    "    freq=len(MicSigV1['Data'][ind])\n",
    "    X_raw = fftpack.fft(MicSigV1['NORM_CIIT'][ind])\n",
    "    X_2 = fftpack.fft(MicSigV1['NORM_CIIT_2'][ind])\n",
    "    X_4 = fftpack.fft(MicSigV1['NORM_CIIT_4'][ind])\n",
    "    X_6 = fftpack.fft(MicSigV1['NORM_CIIT_6'][ind])\n",
    "    freqs = fftpack.fftfreq(freq) * f_s\n",
    "    index_list =[ind for ind,val in enumerate(freqs) if val <=30 and val >=20 ]\n",
    "    MicSigV1.loc[ind,\"Freq_Raw\"]=freqs[np.where(X_raw==max(X_raw[index_list]))[0][0]]\n",
    "    MicSigV1.loc[ind,'Freq_2']= freqs[np.where(X_2==max(X_2[index_list]))[0][0]]  \n",
    "    MicSigV1.loc[ind,'Freq_4']= freqs[np.where(X_4==max(X_4[index_list]))[0][0]] \n",
    "    MicSigV1.loc[ind,'Freq_6']= freqs[np.where(X_6==max(X_6[index_list]))[0][0]] "
   ]
  },
  {
   "cell_type": "code",
   "execution_count": 12,
   "metadata": {},
   "outputs": [],
   "source": [
    "#2nd Dimension: D1 Max. peak in freq.-domain  \n",
    "waveletname= 'sym6'\n",
    "MicSigV1['D1_Max_Raw'] = np.zeros((MicSigV1.shape[0]))\n",
    "MicSigV1['D1_Max_2'] = np.zeros((MicSigV1.shape[0]))\n",
    "MicSigV1['D1_Max_4'] = np.zeros((MicSigV1.shape[0]))\n",
    "MicSigV1['D1_Max_6'] = np.zeros((MicSigV1.shape[0]))\n",
    "\n",
    "for ind in range((MicSigV1.shape[0])):\n",
    "    duration = MicSigV1['Duration'][ind]\n",
    "    #normalized raw data\n",
    "    data_raw = MicSigV1['Data'][ind]\n",
    "    (data_raw, coeff_d) = pywt.dwt(data_raw, waveletname)\n",
    "    f_s_raw=len(data_raw)/duration\n",
    "    freq_raw=len(data_raw)\n",
    "    X_raw = fftpack.fft(data_raw)\n",
    "    freqs_raw = fftpack.fftfreq(freq_raw) * f_s_raw\n",
    "    MicSigV1.loc[ind,'D1_Max_Raw']=freqs_raw[np.where(X_raw==np.max(X_raw))[0][0]]\n",
    "    #normalized data after CIIT 2 iterations\n",
    "    data2 = MicSigV1['Data_CIIT_2'][ind]\n",
    "    (data2, coeff_d) = pywt.dwt(data2, waveletname)\n",
    "    f_s2=len(data2)/duration\n",
    "    freq2=len(data2)\n",
    "    X2 = fftpack.fft(data2)\n",
    "    freqs2 = fftpack.fftfreq(freq2) * f_s2\n",
    "    MicSigV1.loc[ind,'D1_Max_2']=freqs2[np.where(X2==np.max(X2))[0][0]]\n",
    "    #normalized data after CIIT 4 iterations\n",
    "    data4 = MicSigV1['Data_CIIT_4'][ind]\n",
    "    (data4, coeff_d) = pywt.dwt(data4, waveletname)\n",
    "    f_s4=len(data4)/duration\n",
    "    freq4=len(data4)\n",
    "    X4 = fftpack.fft(data4)\n",
    "    freqs4 = fftpack.fftfreq(freq4) * f_s4\n",
    "    MicSigV1.loc[ind,'D1_Max_4']=freqs4[np.where(X4==np.max(X4))[0][0]]\n",
    "    #normalized data after CIIT 6 iterations\n",
    "    data6 = MicSigV1['Data_CIIT_6'][ind]\n",
    "    (data6, coeff_d) = pywt.dwt(data6, waveletname)\n",
    "    f_s6=len(data6)/duration\n",
    "    freq6=len(data6)\n",
    "    X6 = fftpack.fft(data6)\n",
    "    freqs6 = fftpack.fftfreq(freq6) * f_s6\n",
    "    MicSigV1.loc[ind,'D1_Max_6']=freqs6[np.where(X6==np.max(X6))[0][0]]\n"
   ]
  },
  {
   "cell_type": "code",
   "execution_count": 13,
   "metadata": {},
   "outputs": [],
   "source": [
    "# 3rd Dimension: the entropy in the time domain\n",
    "MicSigV1['E_Raw'] = np.zeros((MicSigV1.shape[0]))\n",
    "MicSigV1['E_2'] = np.zeros((MicSigV1.shape[0]))\n",
    "MicSigV1['E_4'] = np.zeros((MicSigV1.shape[0]))\n",
    "MicSigV1['E_6'] = np.zeros((MicSigV1.shape[0]))\n",
    "for ind in range((MicSigV1.shape[0])):\n",
    "    data_raw = MicSigV1['NORM_CIIT'][ind]\n",
    "    data2 = MicSigV1['NORM_CIIT_2'][ind]\n",
    "    data4 = MicSigV1['NORM_CIIT_4'][ind]\n",
    "    data6 = MicSigV1['NORM_CIIT_6'][ind]\n",
    "    MicSigV1.loc[ind,'E_Raw'] = - np.sum([ (x**2)*np.log(x**2) for x in data_raw ])\n",
    "    MicSigV1.loc[ind,'E_2'] = - np.sum([ (x**2)*np.log(x**2) for x in data2 ])\n",
    "    MicSigV1.loc[ind,'E_4'] = - np.sum([ (x**2)*np.log(x**2) for x in data4 ])\n",
    "    MicSigV1.loc[ind,'E_6'] = - np.sum([ (x**2)*np.log(x**2) for x in data6 ])"
   ]
  },
  {
   "cell_type": "code",
   "execution_count": null,
   "metadata": {},
   "outputs": [],
   "source": [
    "output_file = 'clean_data.parquet'\n",
    "output_dir = Path()#Path('etl_output/')\n",
    "full_path = output_dir/output_file\n",
    "\n",
    "output_dir.mkdir(parents=True, exist_ok=True)\n",
    "MicSigV1.to_parquet(full_path)\n",
    "print(f\"saved file t: {full_path}\")"
   ]
  }
 ],
 "metadata": {
  "kernelspec": {
   "display_name": "Python 3",
   "language": "python",
   "name": "python3"
  },
  "language_info": {
   "codemirror_mode": {
    "name": "ipython",
    "version": 3
   },
   "file_extension": ".py",
   "mimetype": "text/x-python",
   "name": "python",
   "nbconvert_exporter": "python",
   "pygments_lexer": "ipython3",
   "version": "3.9.12"
  }
 },
 "nbformat": 4,
 "nbformat_minor": 2
}
